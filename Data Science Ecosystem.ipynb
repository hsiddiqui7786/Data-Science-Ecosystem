{
 "cells": [
  {
   "cell_type": "code",
   "execution_count": null,
   "id": "1000bff6-e8f5-41cb-83c3-7a5bd9e8088e",
   "metadata": {},
   "outputs": [],
   "source": []
  },
  {
   "cell_type": "markdown",
   "id": "56f9405d-6cf6-4d1f-95d1-4243e2afd2ff",
   "metadata": {},
   "source": [
    "# Data Science Tools and Ecosystem"
   ]
  },
  {
   "cell_type": "markdown",
   "id": "7c7bba01-f717-4732-a272-629fa94b490d",
   "metadata": {},
   "source": [
    "## In this notebook, Data Science Tools and Ecosystem are summerized. "
   ]
  },
  {
   "cell_type": "markdown",
   "id": "c331b1bf-ce67-472d-b818-39c0ec5f91a1",
   "metadata": {},
   "source": [
    "### Some of the popular languages that Data Scientist uses are:\n",
    "\n",
    "1. Python\n",
    "2. R Programming\n",
    "3. SQL\n",
    "4. JAVA"
   ]
  },
  {
   "cell_type": "markdown",
   "id": "a0e859bf-b1e5-487c-a6f7-e9269934ef83",
   "metadata": {},
   "source": [
    "## Some of the commonly used libraries used by Data Scientist includes:\n",
    "1. Numpy\n",
    "2. Pandas\n",
    "3. Seaborn\n",
    "4. Plotly"
   ]
  },
  {
   "cell_type": "markdown",
   "id": "b01ee55a-132c-419b-923b-771c44fd2def",
   "metadata": {},
   "source": [
    "# Data Science Tools\n",
    "| Pandas | R Programming | Jupyter Notebook |\n",
    "|--------| ------------- | ---------------- |"
   ]
  },
  {
   "cell_type": "markdown",
   "id": "d8072dcc-ae6b-440e-b908-664104ce8132",
   "metadata": {},
   "source": [
    "### Below are a few examples of evaluating arithmetic expressions in Python\n",
    "+,-,*,/,**\n"
   ]
  },
  {
   "cell_type": "code",
   "execution_count": 10,
   "id": "357634a9-0cd2-43ee-a547-1bb9faf71528",
   "metadata": {},
   "outputs": [
    {
     "data": {
      "text/plain": [
       "17"
      ]
     },
     "execution_count": 10,
     "metadata": {},
     "output_type": "execute_result"
    }
   ],
   "source": [
    "(3*4)+5\n",
    "## This a simple arithmetic expression to multiply then add integers"
   ]
  },
  {
   "cell_type": "code",
   "execution_count": 12,
   "id": "0c457847-be1e-4ece-b41a-57f41d154eed",
   "metadata": {},
   "outputs": [
    {
     "data": {
      "text/plain": [
       "3.3333333333333335"
      ]
     },
     "execution_count": 12,
     "metadata": {},
     "output_type": "execute_result"
    }
   ],
   "source": [
    "200 / 60\n",
    "# This will convert 200 minutes to hours by dividing by 60 "
   ]
  },
  {
   "cell_type": "markdown",
   "id": "c71b60ae-6a96-430d-988c-812c899b4e14",
   "metadata": {},
   "source": [
    "**Objectives**\n",
    "- Python\n",
    "- R Programming\n",
    "- SQL\n"
   ]
  },
  {
   "cell_type": "markdown",
   "id": "49fc7fe2-8976-4ae4-baea-85cc2c70adef",
   "metadata": {},
   "source": [
    "## Author \n",
    "Haroon Siddiqui"
   ]
  },
  {
   "cell_type": "code",
   "execution_count": null,
   "id": "48c595d2-30ad-4be1-9e57-412c42aed1a5",
   "metadata": {},
   "outputs": [],
   "source": []
  }
 ],
 "metadata": {
  "kernelspec": {
   "display_name": "Python 3 (ipykernel)",
   "language": "python",
   "name": "python3"
  },
  "language_info": {
   "codemirror_mode": {
    "name": "ipython",
    "version": 3
   },
   "file_extension": ".py",
   "mimetype": "text/x-python",
   "name": "python",
   "nbconvert_exporter": "python",
   "pygments_lexer": "ipython3",
   "version": "3.12.3"
  }
 },
 "nbformat": 4,
 "nbformat_minor": 5
}
